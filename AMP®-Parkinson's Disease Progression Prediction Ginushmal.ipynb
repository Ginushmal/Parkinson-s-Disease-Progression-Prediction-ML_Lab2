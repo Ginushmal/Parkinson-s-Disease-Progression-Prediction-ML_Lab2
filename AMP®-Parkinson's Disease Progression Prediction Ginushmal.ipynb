{
 "cells": [
  {
   "cell_type": "code",
   "execution_count": 1,
   "metadata": {},
   "outputs": [],
   "source": [
    "# This Python 3 environment comes with many helpful analytics libraries installed\n",
    "# It is defined by the kaggle/python Docker image: https://github.com/kaggle/docker-python\n",
    "# For example, here's several helpful packages to load\n",
    "\n",
    "import numpy as np # linear algebra\n",
    "import pandas as pd # data processing, CSV file I/O (e.g. pd.read_csv)\n",
    "import tensorflow as tf\n",
    "# import tensorflow_decision_forests as tfdf\n",
    "import matplotlib.pyplot as plt\n",
    "import seaborn as sns\n",
    "import pandas as pd\n",
    "import numpy as np\n",
    "import math\n",
    "\n",
    "# Input data files are available in the read-only \"../input/\" directory\n",
    "# For example, running this (by clicking run or pressing Shift+Enter) will list all files under the input directory\n",
    "\n",
    "import os\n",
    "for dirname, _, filenames in os.walk('/kaggle/input'):\n",
    "    for filename in filenames:\n",
    "        print(os.path.join(dirname, filename))\n",
    "\n",
    "# You can write up to 20GB to the current directory (/kaggle/working/) that gets preserved as output when you create a version using \"Save & Run All\" \n",
    "# You can also write temporary files to /kaggle/temp/, but they won't be saved outside of the current session"
   ]
  },
  {
   "cell_type": "code",
   "execution_count": 3,
   "metadata": {},
   "outputs": [],
   "source": [
    "# # Load a dataset into a Pandas DataFrame\n",
    "# train_proteins = pd.read_csv(\"/kaggle/input/amp-parkinsons-disease-progression-prediction/train_proteins.csv\")\n",
    "# train_peptides = pd.read_csv(\"/kaggle/input/amp-parkinsons-disease-progression-prediction/train_peptides.csv\")\n",
    "# train_clinical = pd.read_csv(\"/kaggle/input/amp-parkinsons-disease-progression-prediction/train_clinical_data.csv\")\n",
    "\n",
    "# Load a dataset into a Pandas DataFrame\n",
    "train_proteins = pd.read_csv(\"train_proteins.csv\")\n",
    "train_peptides = pd.read_csv(\"train_peptides.csv\")\n",
    "train_clinical = pd.read_csv(\"train_clinical_data.csv\")"
   ]
  },
  {
   "cell_type": "code",
   "execution_count": 16,
   "metadata": {},
   "outputs": [
    {
     "data": {
      "text/html": [
       "<div>\n",
       "<style scoped>\n",
       "    .dataframe tbody tr th:only-of-type {\n",
       "        vertical-align: middle;\n",
       "    }\n",
       "\n",
       "    .dataframe tbody tr th {\n",
       "        vertical-align: top;\n",
       "    }\n",
       "\n",
       "    .dataframe thead th {\n",
       "        text-align: right;\n",
       "    }\n",
       "</style>\n",
       "<table border=\"1\" class=\"dataframe\">\n",
       "  <thead>\n",
       "    <tr style=\"text-align: right;\">\n",
       "      <th></th>\n",
       "      <th>visit_id</th>\n",
       "      <th>visit_month</th>\n",
       "      <th>patient_id</th>\n",
       "      <th>UniProt</th>\n",
       "      <th>NPX</th>\n",
       "    </tr>\n",
       "  </thead>\n",
       "  <tbody>\n",
       "    <tr>\n",
       "      <th>0</th>\n",
       "      <td>55_0</td>\n",
       "      <td>0</td>\n",
       "      <td>55</td>\n",
       "      <td>O00391</td>\n",
       "      <td>11254.3</td>\n",
       "    </tr>\n",
       "    <tr>\n",
       "      <th>1</th>\n",
       "      <td>55_0</td>\n",
       "      <td>0</td>\n",
       "      <td>55</td>\n",
       "      <td>O00533</td>\n",
       "      <td>732430.0</td>\n",
       "    </tr>\n",
       "    <tr>\n",
       "      <th>2</th>\n",
       "      <td>55_0</td>\n",
       "      <td>0</td>\n",
       "      <td>55</td>\n",
       "      <td>O00584</td>\n",
       "      <td>39585.8</td>\n",
       "    </tr>\n",
       "    <tr>\n",
       "      <th>3</th>\n",
       "      <td>55_0</td>\n",
       "      <td>0</td>\n",
       "      <td>55</td>\n",
       "      <td>O14498</td>\n",
       "      <td>41526.9</td>\n",
       "    </tr>\n",
       "    <tr>\n",
       "      <th>4</th>\n",
       "      <td>55_0</td>\n",
       "      <td>0</td>\n",
       "      <td>55</td>\n",
       "      <td>O14773</td>\n",
       "      <td>31238.0</td>\n",
       "    </tr>\n",
       "    <tr>\n",
       "      <th>...</th>\n",
       "      <td>...</td>\n",
       "      <td>...</td>\n",
       "      <td>...</td>\n",
       "      <td>...</td>\n",
       "      <td>...</td>\n",
       "    </tr>\n",
       "    <tr>\n",
       "      <th>232736</th>\n",
       "      <td>58648_108</td>\n",
       "      <td>108</td>\n",
       "      <td>58648</td>\n",
       "      <td>Q9UBX5</td>\n",
       "      <td>27387.8</td>\n",
       "    </tr>\n",
       "    <tr>\n",
       "      <th>232737</th>\n",
       "      <td>58648_108</td>\n",
       "      <td>108</td>\n",
       "      <td>58648</td>\n",
       "      <td>Q9UHG2</td>\n",
       "      <td>369437.0</td>\n",
       "    </tr>\n",
       "    <tr>\n",
       "      <th>232738</th>\n",
       "      <td>58648_108</td>\n",
       "      <td>108</td>\n",
       "      <td>58648</td>\n",
       "      <td>Q9UKV8</td>\n",
       "      <td>105830.0</td>\n",
       "    </tr>\n",
       "    <tr>\n",
       "      <th>232739</th>\n",
       "      <td>58648_108</td>\n",
       "      <td>108</td>\n",
       "      <td>58648</td>\n",
       "      <td>Q9Y646</td>\n",
       "      <td>21257.6</td>\n",
       "    </tr>\n",
       "    <tr>\n",
       "      <th>232740</th>\n",
       "      <td>58648_108</td>\n",
       "      <td>108</td>\n",
       "      <td>58648</td>\n",
       "      <td>Q9Y6R7</td>\n",
       "      <td>17953.1</td>\n",
       "    </tr>\n",
       "  </tbody>\n",
       "</table>\n",
       "<p>232741 rows × 5 columns</p>\n",
       "</div>"
      ],
      "text/plain": [
       "         visit_id  visit_month  patient_id UniProt       NPX\n",
       "0            55_0            0          55  O00391   11254.3\n",
       "1            55_0            0          55  O00533  732430.0\n",
       "2            55_0            0          55  O00584   39585.8\n",
       "3            55_0            0          55  O14498   41526.9\n",
       "4            55_0            0          55  O14773   31238.0\n",
       "...           ...          ...         ...     ...       ...\n",
       "232736  58648_108          108       58648  Q9UBX5   27387.8\n",
       "232737  58648_108          108       58648  Q9UHG2  369437.0\n",
       "232738  58648_108          108       58648  Q9UKV8  105830.0\n",
       "232739  58648_108          108       58648  Q9Y646   21257.6\n",
       "232740  58648_108          108       58648  Q9Y6R7   17953.1\n",
       "\n",
       "[232741 rows x 5 columns]"
      ]
     },
     "execution_count": 16,
     "metadata": {},
     "output_type": "execute_result"
    }
   ],
   "source": [
    "train_proteins\n"
   ]
  },
  {
   "cell_type": "code",
   "execution_count": 17,
   "metadata": {},
   "outputs": [
    {
     "data": {
      "text/plain": [
       "1113"
      ]
     },
     "execution_count": 17,
     "metadata": {},
     "output_type": "execute_result"
    }
   ],
   "source": [
    "train_proteins.visit_id.nunique()"
   ]
  },
  {
   "cell_type": "code",
   "execution_count": 30,
   "metadata": {},
   "outputs": [],
   "source": [
    "# testdf=train_proteins[train_proteins['patient_id'=='55']]\n",
    "testdf = train_proteins[train_proteins['UniProt'] == 'Q06481']"
   ]
  }
 ],
 "metadata": {
  "kernelspec": {
   "display_name": "Python 3",
   "language": "python",
   "name": "python3"
  },
  "language_info": {
   "codemirror_mode": {
    "name": "ipython",
    "version": 3
   },
   "file_extension": ".py",
   "mimetype": "text/x-python",
   "name": "python",
   "nbconvert_exporter": "python",
   "pygments_lexer": "ipython3",
   "version": "3.10.8"
  },
  "orig_nbformat": 4
 },
 "nbformat": 4,
 "nbformat_minor": 2
}
